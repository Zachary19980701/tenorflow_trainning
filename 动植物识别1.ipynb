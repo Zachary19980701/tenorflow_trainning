{
 "cells": [
  {
   "cell_type": "code",
   "execution_count": 1,
   "id": "combined-sheriff",
   "metadata": {},
   "outputs": [],
   "source": [
    "import tensorflow as tf\n",
    "import numpy as np\n",
    "import matplotlib.pyplot as plt\n",
    "get_ipython().run_line_magic('matplotlib', 'inline')\n",
    "import os\n",
    "os.environ['CUDA_VISIBLE_DEVICES'] = '0'  \n"
   ]
  },
  {
   "cell_type": "code",
   "execution_count": 2,
   "id": "blind-protection",
   "metadata": {},
   "outputs": [],
   "source": [
    "#读取文件名作为标签值\n",
    "def read_file(data_dir):\n",
    "    ani_dir = data_dir + '/animal/'\n",
    "    fru_dir = data_dir + '/fruit/'\n",
    "    ani_names = tf.constant([ani_dir + fn for fn in os.listdir(ani_dir)])\n",
    "    fru_names = tf.constant([fru_dir + fn for fn in os.listdir(fru_dir)])\n",
    "    filenames = tf.concat([ani_names , fru_names] , axis = -1)\n",
    "    \n",
    "    labels = tf.concat([tf.zeros(ani_names.shape , dtype = tf.int32),\n",
    "                        tf.ones(fru_names.shape , dtype = tf.int32)],\n",
    "                       axis = -1)\n",
    "    return filenames , labels"
   ]
  },
  {
   "cell_type": "code",
   "execution_count": 3,
   "id": "adaptive-stability",
   "metadata": {},
   "outputs": [],
   "source": [
    "#读取图片，图片标准化\n",
    "def resize_img(filename , label):\n",
    "    img_str = tf.io.read_file(filename)\n",
    "    img_decode = tf.image.decode_jpeg(img_str , channels = 3)\n",
    "    img_resize = tf.image.resize(img_decode , [256 , 256])  / 255.0\n",
    "    return img_resize , label"
   ]
  },
  {
   "cell_type": "code",
   "execution_count": 4,
   "id": "still-cotton",
   "metadata": {},
   "outputs": [],
   "source": [
    "def plot_graphs(history, string):\n",
    "    plt.plot(history.history[string])\n",
    "    plt.plot(history.history['val_'+string])\n",
    "    plt.xlabel('epochs')\n",
    "    plt.ylabel(string)\n",
    "    plt.legend([string, 'val_'+string])\n",
    "    plt.show()\n",
    "\n",
    "\n",
    "def plot_graphs(history, string):\n",
    "    plt.plot(history.history[string])\n",
    "    plt.plot(history.history['val_'+string])\n",
    "    plt.xlabel('epochs')\n",
    "    plt.ylabel(string)\n",
    "    plt.legend([string, 'val_'+string])\n",
    "    plt.show()\n"
   ]
  },
  {
   "cell_type": "code",
   "execution_count": 5,
   "id": "dominant-personality",
   "metadata": {},
   "outputs": [],
   "source": [
    "train_data_dir = 'D:/project/tr01'"
   ]
  },
  {
   "cell_type": "code",
   "execution_count": 6,
   "id": "external-looking",
   "metadata": {},
   "outputs": [],
   "source": [
    "def pre_data(data_dir):\n",
    "    filenames , labels = read_file(train_data_dir)\n",
    "    dataset = tf.data.Dataset.from_tensor_slices((filenames , labels))\n",
    "    dataset = dataset.map(\n",
    "                       map_func = resize_img ,\n",
    "                       num_parallel_calls = tf.data.experimental.AUTOTUNE)\n",
    "    dataset = dataset.shuffle(buffer_size)\n",
    "    dataset = dataset.batch(batch_size)\n",
    "    dataset = dataset.prefetch(tf.data.experimental.AUTOTUNE)\n",
    "\n",
    "    return dataset"
   ]
  },
  {
   "cell_type": "code",
   "execution_count": 7,
   "id": "quarterly-senator",
   "metadata": {},
   "outputs": [],
   "source": [
    "\n",
    "#乱序\n",
    "buffer_size = 1500\n",
    "batch_size = 64"
   ]
  },
  {
   "cell_type": "code",
   "execution_count": 8,
   "id": "little-omega",
   "metadata": {},
   "outputs": [
    {
     "name": "stdout",
     "output_type": "stream",
     "text": [
      "(64, 256, 256, 3)\n",
      "(64,)\n",
      "<PrefetchDataset shapes: ((None, 256, 256, 3), (None,)), types: (tf.float32, tf.int32)>\n"
     ]
    }
   ],
   "source": [
    "train_data = pre_data(train_data_dir)\n",
    "it = iter(train_data)\n",
    "images , labels = next(it)\n",
    "print(images.shape)\n",
    "print(labels.shape)\n",
    "print(train_data)"
   ]
  },
  {
   "cell_type": "code",
   "execution_count": 9,
   "id": "national-residence",
   "metadata": {},
   "outputs": [
    {
     "name": "stdout",
     "output_type": "stream",
     "text": [
      "Model: \"sequential\"\n",
      "_________________________________________________________________\n",
      "Layer (type)                 Output Shape              Param #   \n",
      "=================================================================\n",
      "conv2d (Conv2D)              (None, 256, 256, 32)      896       \n",
      "_________________________________________________________________\n",
      "dropout (Dropout)            (None, 256, 256, 32)      0         \n",
      "_________________________________________________________________\n",
      "max_pooling2d (MaxPooling2D) (None, 128, 128, 32)      0         \n",
      "_________________________________________________________________\n",
      "conv2d_1 (Conv2D)            (None, 128, 128, 64)      18496     \n",
      "_________________________________________________________________\n",
      "dropout_1 (Dropout)          (None, 128, 128, 64)      0         \n",
      "_________________________________________________________________\n",
      "max_pooling2d_1 (MaxPooling2 (None, 64, 64, 64)        0         \n",
      "_________________________________________________________________\n",
      "flatten (Flatten)            (None, 262144)            0         \n",
      "_________________________________________________________________\n",
      "dense (Dense)                (None, 128)               33554560  \n",
      "_________________________________________________________________\n",
      "dense_1 (Dense)              (None, 10)                1290      \n",
      "=================================================================\n",
      "Total params: 33,575,242\n",
      "Trainable params: 33,575,242\n",
      "Non-trainable params: 0\n",
      "_________________________________________________________________\n"
     ]
    }
   ],
   "source": [
    "\n",
    "#建立空框架\n",
    "model = tf.keras.models.Sequential()\n",
    "\n",
    "#第一卷积层\n",
    "model.add(tf.keras.layers.Conv2D(filters = 32 ,\n",
    "                                 kernel_size = (3 , 3) ,\n",
    "                                 input_shape = (256 , 256 , 3) ,\n",
    "                                 activation = 'relu' , \n",
    "                                 padding = 'same'))\n",
    "\n",
    "#防止过拟合，抛弃掉一些特征数据\n",
    "model.add(tf.keras.layers.Dropout(rate = 0.3))\n",
    "\n",
    "#第一个池化层\n",
    "model.add(tf.keras.layers.MaxPooling2D(pool_size = (2 , 2)))\n",
    "\n",
    "#第二个卷积层\n",
    "model.add(tf.keras.layers.Conv2D(filters =64 ,\n",
    "                                 kernel_size  = (3 , 3) ,\n",
    "                                 activation = 'relu' ,\n",
    "                                 padding = 'same'))\n",
    "\n",
    "#防止过拟合\n",
    "model.add(tf.keras.layers.Dropout(rate = 0.3))\n",
    "\n",
    "#第二个池化层\n",
    "model.add(tf.keras.layers.MaxPooling2D(pool_size = (2 , 2)))\n",
    "\n",
    "#平坦层\n",
    "model.add(tf.keras.layers.Flatten())\n",
    "\n",
    "#全连接层\n",
    "model.add(tf.keras.layers.Dense(128 , activation = 'sigmoid'))\n",
    "\n",
    "#输出层\n",
    "model.add(tf.keras.layers.Dense(10 , activation = 'sigmoid'))\n",
    "\n",
    "\n",
    "# In[14]:\n",
    "\n",
    "\n",
    "model.summary()\n"
   ]
  },
  {
   "cell_type": "code",
   "execution_count": null,
   "id": "british-enforcement",
   "metadata": {},
   "outputs": [],
   "source": []
  },
  {
   "cell_type": "code",
   "execution_count": 10,
   "id": "virgin-virginia",
   "metadata": {},
   "outputs": [],
   "source": [
    "train_epochs = 100\n"
   ]
  },
  {
   "cell_type": "code",
   "execution_count": 11,
   "id": "hybrid-smile",
   "metadata": {},
   "outputs": [],
   "source": [
    "model.compile(optimizer = 'adam' ,\n",
    "              loss = 'sparse_categorical_crossentropy' ,\n",
    "              metrics = ['accuracy'])"
   ]
  },
  {
   "cell_type": "code",
   "execution_count": 12,
   "id": "sustainable-crossing",
   "metadata": {},
   "outputs": [
    {
     "name": "stdout",
     "output_type": "stream",
     "text": [
      "Train on 51 samples, validate on 13 samples\n",
      "Epoch 1/100\n",
      "51/51 - 4s - loss: 2.2881 - accuracy: 0.1176 - val_loss: 1.6666 - val_accuracy: 0.9231\n",
      "Epoch 2/100\n",
      "51/51 - 1s - loss: 1.6719 - accuracy: 0.8824 - val_loss: 1.6404 - val_accuracy: 0.9231\n",
      "Epoch 3/100\n",
      "51/51 - 1s - loss: 1.6461 - accuracy: 0.8824 - val_loss: 1.6119 - val_accuracy: 0.9231\n",
      "Epoch 4/100\n",
      "51/51 - 1s - loss: 1.6175 - accuracy: 0.8824 - val_loss: 1.5921 - val_accuracy: 0.9231\n",
      "Epoch 5/100\n",
      "51/51 - 1s - loss: 1.5980 - accuracy: 0.8824 - val_loss: 1.5721 - val_accuracy: 0.9231\n",
      "Epoch 6/100\n",
      "51/51 - 1s - loss: 1.5783 - accuracy: 0.8824 - val_loss: 1.5518 - val_accuracy: 0.9231\n",
      "Epoch 7/100\n",
      "51/51 - 1s - loss: 1.5584 - accuracy: 0.8824 - val_loss: 1.5312 - val_accuracy: 0.9231\n",
      "Epoch 8/100\n",
      "51/51 - 1s - loss: 1.5382 - accuracy: 0.8824 - val_loss: 1.5103 - val_accuracy: 0.9231\n",
      "Epoch 9/100\n",
      "51/51 - 1s - loss: 1.5177 - accuracy: 0.8824 - val_loss: 1.4892 - val_accuracy: 0.9231\n",
      "Epoch 10/100\n",
      "51/51 - 1s - loss: 1.4971 - accuracy: 0.8824 - val_loss: 1.4679 - val_accuracy: 0.9231\n",
      "Epoch 11/100\n",
      "51/51 - 1s - loss: 1.4763 - accuracy: 0.8824 - val_loss: 1.4464 - val_accuracy: 0.9231\n",
      "Epoch 12/100\n",
      "51/51 - 1s - loss: 1.4552 - accuracy: 0.8824 - val_loss: 1.4246 - val_accuracy: 0.9231\n",
      "Epoch 13/100\n",
      "51/51 - 1s - loss: 1.4340 - accuracy: 0.8824 - val_loss: 1.4027 - val_accuracy: 0.9231\n",
      "Epoch 14/100\n",
      "51/51 - 1s - loss: 1.4127 - accuracy: 0.8824 - val_loss: 1.3805 - val_accuracy: 0.9231\n",
      "Epoch 15/100\n",
      "51/51 - 1s - loss: 1.3912 - accuracy: 0.8824 - val_loss: 1.3582 - val_accuracy: 0.9231\n",
      "Epoch 16/100\n",
      "51/51 - 1s - loss: 1.3696 - accuracy: 0.8824 - val_loss: 1.3357 - val_accuracy: 0.9231\n",
      "Epoch 17/100\n",
      "51/51 - 1s - loss: 1.3478 - accuracy: 0.8824 - val_loss: 1.3130 - val_accuracy: 0.9231\n",
      "Epoch 18/100\n",
      "51/51 - 1s - loss: 1.3258 - accuracy: 0.8824 - val_loss: 1.2902 - val_accuracy: 0.9231\n",
      "Epoch 19/100\n",
      "51/51 - 1s - loss: 1.3038 - accuracy: 0.8824 - val_loss: 1.2671 - val_accuracy: 0.9231\n",
      "Epoch 20/100\n",
      "51/51 - 1s - loss: 1.2816 - accuracy: 0.8824 - val_loss: 1.2439 - val_accuracy: 0.9231\n",
      "Epoch 21/100\n",
      "51/51 - 1s - loss: 1.2593 - accuracy: 0.8824 - val_loss: 1.2205 - val_accuracy: 0.9231\n",
      "Epoch 22/100\n",
      "51/51 - 1s - loss: 1.2369 - accuracy: 0.8824 - val_loss: 1.1969 - val_accuracy: 0.9231\n",
      "Epoch 23/100\n",
      "51/51 - 1s - loss: 1.2143 - accuracy: 0.8824 - val_loss: 1.1731 - val_accuracy: 0.9231\n",
      "Epoch 24/100\n",
      "51/51 - 1s - loss: 1.1916 - accuracy: 0.8824 - val_loss: 1.1491 - val_accuracy: 0.9231\n",
      "Epoch 25/100\n",
      "51/51 - 1s - loss: 1.1688 - accuracy: 0.8824 - val_loss: 1.1250 - val_accuracy: 0.9231\n",
      "Epoch 26/100\n",
      "51/51 - 1s - loss: 1.1459 - accuracy: 0.8824 - val_loss: 1.1007 - val_accuracy: 0.9231\n",
      "Epoch 27/100\n",
      "51/51 - 1s - loss: 1.1229 - accuracy: 0.8824 - val_loss: 1.0763 - val_accuracy: 0.9231\n",
      "Epoch 28/100\n",
      "51/51 - 1s - loss: 1.0999 - accuracy: 0.8824 - val_loss: 1.0517 - val_accuracy: 0.9231\n",
      "Epoch 29/100\n",
      "51/51 - 1s - loss: 1.0768 - accuracy: 0.8824 - val_loss: 1.0271 - val_accuracy: 0.9231\n",
      "Epoch 30/100\n",
      "51/51 - 1s - loss: 1.0536 - accuracy: 0.8824 - val_loss: 1.0023 - val_accuracy: 0.9231\n",
      "Epoch 31/100\n",
      "51/51 - 1s - loss: 1.0305 - accuracy: 0.8824 - val_loss: 0.9775 - val_accuracy: 0.9231\n",
      "Epoch 32/100\n",
      "51/51 - 1s - loss: 1.0074 - accuracy: 0.8824 - val_loss: 0.9528 - val_accuracy: 0.9231\n",
      "Epoch 33/100\n",
      "51/51 - 1s - loss: 0.9843 - accuracy: 0.8824 - val_loss: 0.9280 - val_accuracy: 0.9231\n",
      "Epoch 34/100\n",
      "51/51 - 1s - loss: 0.9614 - accuracy: 0.8824 - val_loss: 0.9034 - val_accuracy: 0.9231\n",
      "Epoch 35/100\n",
      "51/51 - 1s - loss: 0.9387 - accuracy: 0.8824 - val_loss: 0.8789 - val_accuracy: 0.9231\n",
      "Epoch 36/100\n",
      "51/51 - 1s - loss: 0.9162 - accuracy: 0.8824 - val_loss: 0.8547 - val_accuracy: 0.9231\n",
      "Epoch 37/100\n",
      "51/51 - 1s - loss: 0.8939 - accuracy: 0.8824 - val_loss: 0.8307 - val_accuracy: 0.9231\n",
      "Epoch 38/100\n",
      "51/51 - 1s - loss: 0.8720 - accuracy: 0.8824 - val_loss: 0.8071 - val_accuracy: 0.9231\n",
      "Epoch 39/100\n",
      "51/51 - 1s - loss: 0.8506 - accuracy: 0.8824 - val_loss: 0.7840 - val_accuracy: 0.9231\n",
      "Epoch 40/100\n",
      "51/51 - 1s - loss: 0.8296 - accuracy: 0.8824 - val_loss: 0.7613 - val_accuracy: 0.9231\n",
      "Epoch 41/100\n",
      "51/51 - 1s - loss: 0.8091 - accuracy: 0.8824 - val_loss: 0.7392 - val_accuracy: 0.9231\n",
      "Epoch 42/100\n",
      "51/51 - 1s - loss: 0.7892 - accuracy: 0.8824 - val_loss: 0.7177 - val_accuracy: 0.9231\n",
      "Epoch 43/100\n",
      "51/51 - 1s - loss: 0.7699 - accuracy: 0.8824 - val_loss: 0.6970 - val_accuracy: 0.9231\n",
      "Epoch 44/100\n",
      "51/51 - 1s - loss: 0.7513 - accuracy: 0.8824 - val_loss: 0.6769 - val_accuracy: 0.9231\n",
      "Epoch 45/100\n",
      "51/51 - 1s - loss: 0.7334 - accuracy: 0.8824 - val_loss: 0.6576 - val_accuracy: 0.9231\n",
      "Epoch 46/100\n",
      "51/51 - 1s - loss: 0.7163 - accuracy: 0.8824 - val_loss: 0.6392 - val_accuracy: 0.9231\n",
      "Epoch 47/100\n",
      "51/51 - 1s - loss: 0.6999 - accuracy: 0.8824 - val_loss: 0.6215 - val_accuracy: 0.9231\n",
      "Epoch 48/100\n",
      "51/51 - 1s - loss: 0.6843 - accuracy: 0.8824 - val_loss: 0.6047 - val_accuracy: 0.9231\n",
      "Epoch 49/100\n",
      "51/51 - 1s - loss: 0.6694 - accuracy: 0.8824 - val_loss: 0.5887 - val_accuracy: 0.9231\n",
      "Epoch 50/100\n",
      "51/51 - 1s - loss: 0.6552 - accuracy: 0.8824 - val_loss: 0.5736 - val_accuracy: 0.9231\n",
      "Epoch 51/100\n",
      "51/51 - 1s - loss: 0.6418 - accuracy: 0.8824 - val_loss: 0.5593 - val_accuracy: 0.9231\n",
      "Epoch 52/100\n",
      "51/51 - 1s - loss: 0.6291 - accuracy: 0.8824 - val_loss: 0.5458 - val_accuracy: 0.9231\n",
      "Epoch 53/100\n",
      "51/51 - 1s - loss: 0.6170 - accuracy: 0.8824 - val_loss: 0.5331 - val_accuracy: 0.9231\n",
      "Epoch 54/100\n",
      "51/51 - 1s - loss: 0.6056 - accuracy: 0.8824 - val_loss: 0.5211 - val_accuracy: 0.9231\n",
      "Epoch 55/100\n",
      "51/51 - 1s - loss: 0.5948 - accuracy: 0.8824 - val_loss: 0.5099 - val_accuracy: 0.9231\n",
      "Epoch 56/100\n",
      "51/51 - 1s - loss: 0.5846 - accuracy: 0.8824 - val_loss: 0.4994 - val_accuracy: 0.9231\n",
      "Epoch 57/100\n",
      "51/51 - 1s - loss: 0.5750 - accuracy: 0.8824 - val_loss: 0.4895 - val_accuracy: 0.9231\n",
      "Epoch 58/100\n",
      "51/51 - 1s - loss: 0.5658 - accuracy: 0.8824 - val_loss: 0.4802 - val_accuracy: 0.9231\n",
      "Epoch 59/100\n",
      "51/51 - 1s - loss: 0.5571 - accuracy: 0.8824 - val_loss: 0.4716 - val_accuracy: 0.9231\n",
      "Epoch 60/100\n",
      "51/51 - 1s - loss: 0.5489 - accuracy: 0.8824 - val_loss: 0.4635 - val_accuracy: 0.9231\n",
      "Epoch 61/100\n",
      "51/51 - 1s - loss: 0.5412 - accuracy: 0.8824 - val_loss: 0.4559 - val_accuracy: 0.9231\n",
      "Epoch 62/100\n",
      "51/51 - 1s - loss: 0.5338 - accuracy: 0.8824 - val_loss: 0.4488 - val_accuracy: 0.9231\n",
      "Epoch 63/100\n",
      "51/51 - 1s - loss: 0.5269 - accuracy: 0.8824 - val_loss: 0.4422 - val_accuracy: 0.9231\n",
      "Epoch 64/100\n",
      "51/51 - 1s - loss: 0.5204 - accuracy: 0.8824 - val_loss: 0.4361 - val_accuracy: 0.9231\n",
      "Epoch 65/100\n",
      "51/51 - 1s - loss: 0.5142 - accuracy: 0.8824 - val_loss: 0.4303 - val_accuracy: 0.9231\n",
      "Epoch 66/100\n",
      "51/51 - 1s - loss: 0.5083 - accuracy: 0.8824 - val_loss: 0.4250 - val_accuracy: 0.9231\n",
      "Epoch 67/100\n",
      "51/51 - 1s - loss: 0.5028 - accuracy: 0.8824 - val_loss: 0.4200 - val_accuracy: 0.9231\n",
      "Epoch 68/100\n",
      "51/51 - 1s - loss: 0.4976 - accuracy: 0.8824 - val_loss: 0.4153 - val_accuracy: 0.9231\n",
      "Epoch 69/100\n",
      "51/51 - 1s - loss: 0.4928 - accuracy: 0.8824 - val_loss: 0.4109 - val_accuracy: 0.9231\n",
      "Epoch 70/100\n",
      "51/51 - 1s - loss: 0.4882 - accuracy: 0.8824 - val_loss: 0.4068 - val_accuracy: 0.9231\n",
      "Epoch 71/100\n",
      "51/51 - 1s - loss: 0.4838 - accuracy: 0.8824 - val_loss: 0.4029 - val_accuracy: 0.9231\n",
      "Epoch 72/100\n",
      "51/51 - 1s - loss: 0.4797 - accuracy: 0.8824 - val_loss: 0.3992 - val_accuracy: 0.9231\n",
      "Epoch 73/100\n",
      "51/51 - 1s - loss: 0.4759 - accuracy: 0.8824 - val_loss: 0.3958 - val_accuracy: 0.9231\n",
      "Epoch 74/100\n",
      "51/51 - 1s - loss: 0.4723 - accuracy: 0.8824 - val_loss: 0.3925 - val_accuracy: 0.9231\n",
      "Epoch 75/100\n",
      "51/51 - 1s - loss: 0.4688 - accuracy: 0.8824 - val_loss: 0.3894 - val_accuracy: 0.9231\n",
      "Epoch 76/100\n",
      "51/51 - 1s - loss: 0.4656 - accuracy: 0.8824 - val_loss: 0.3864 - val_accuracy: 0.9231\n",
      "Epoch 77/100\n",
      "51/51 - 1s - loss: 0.4625 - accuracy: 0.8824 - val_loss: 0.3835 - val_accuracy: 0.9231\n",
      "Epoch 78/100\n",
      "51/51 - 1s - loss: 0.4596 - accuracy: 0.8824 - val_loss: 0.3807 - val_accuracy: 0.9231\n",
      "Epoch 79/100\n",
      "51/51 - 1s - loss: 0.4568 - accuracy: 0.8824 - val_loss: 0.3780 - val_accuracy: 0.9231\n",
      "Epoch 80/100\n",
      "51/51 - 1s - loss: 0.4542 - accuracy: 0.8824 - val_loss: 0.3755 - val_accuracy: 0.9231\n",
      "Epoch 81/100\n",
      "51/51 - 1s - loss: 0.4517 - accuracy: 0.8824 - val_loss: 0.3730 - val_accuracy: 0.9231\n",
      "Epoch 82/100\n",
      "51/51 - 1s - loss: 0.4493 - accuracy: 0.8824 - val_loss: 0.3705 - val_accuracy: 0.9231\n",
      "Epoch 83/100\n",
      "51/51 - 1s - loss: 0.4470 - accuracy: 0.8824 - val_loss: 0.3682 - val_accuracy: 0.9231\n",
      "Epoch 84/100\n",
      "51/51 - 1s - loss: 0.4448 - accuracy: 0.8824 - val_loss: 0.3659 - val_accuracy: 0.9231\n",
      "Epoch 85/100\n",
      "51/51 - 1s - loss: 0.4428 - accuracy: 0.8824 - val_loss: 0.3637 - val_accuracy: 0.9231\n",
      "Epoch 86/100\n",
      "51/51 - 1s - loss: 0.4408 - accuracy: 0.8824 - val_loss: 0.3616 - val_accuracy: 0.9231\n",
      "Epoch 87/100\n",
      "51/51 - 1s - loss: 0.4389 - accuracy: 0.8824 - val_loss: 0.3596 - val_accuracy: 0.9231\n",
      "Epoch 88/100\n",
      "51/51 - 1s - loss: 0.4371 - accuracy: 0.8824 - val_loss: 0.3576 - val_accuracy: 0.9231\n",
      "Epoch 89/100\n",
      "51/51 - 1s - loss: 0.4353 - accuracy: 0.8824 - val_loss: 0.3557 - val_accuracy: 0.9231\n",
      "Epoch 90/100\n",
      "51/51 - 1s - loss: 0.4337 - accuracy: 0.8824 - val_loss: 0.3538 - val_accuracy: 0.9231\n",
      "Epoch 91/100\n",
      "51/51 - 1s - loss: 0.4321 - accuracy: 0.8824 - val_loss: 0.3521 - val_accuracy: 0.9231\n",
      "Epoch 92/100\n",
      "51/51 - 1s - loss: 0.4305 - accuracy: 0.8824 - val_loss: 0.3504 - val_accuracy: 0.9231\n",
      "Epoch 93/100\n",
      "51/51 - 1s - loss: 0.4291 - accuracy: 0.8824 - val_loss: 0.3488 - val_accuracy: 0.9231\n",
      "Epoch 94/100\n",
      "51/51 - 1s - loss: 0.4277 - accuracy: 0.8824 - val_loss: 0.3472 - val_accuracy: 0.9231\n",
      "Epoch 95/100\n",
      "51/51 - 1s - loss: 0.4263 - accuracy: 0.8824 - val_loss: 0.3458 - val_accuracy: 0.9231\n",
      "Epoch 96/100\n",
      "51/51 - 1s - loss: 0.4250 - accuracy: 0.8824 - val_loss: 0.3444 - val_accuracy: 0.9231\n",
      "Epoch 97/100\n",
      "51/51 - 1s - loss: 0.4238 - accuracy: 0.8824 - val_loss: 0.3430 - val_accuracy: 0.9231\n",
      "Epoch 98/100\n",
      "51/51 - 1s - loss: 0.4226 - accuracy: 0.8824 - val_loss: 0.3418 - val_accuracy: 0.9231\n",
      "Epoch 99/100\n",
      "51/51 - 1s - loss: 0.4214 - accuracy: 0.8824 - val_loss: 0.3406 - val_accuracy: 0.9231\n",
      "Epoch 100/100\n",
      "51/51 - 1s - loss: 0.4203 - accuracy: 0.8824 - val_loss: 0.3394 - val_accuracy: 0.9231\n"
     ]
    }
   ],
   "source": [
    "train_history = model.fit(images , labels ,\n",
    "                          validation_split = 0.2 ,\n",
    "                          epochs = train_epochs ,\n",
    "                          batch_size = batch_size ,\n",
    "                          verbose = 2)"
   ]
  },
  {
   "cell_type": "code",
   "execution_count": 13,
   "id": "spatial-welcome",
   "metadata": {},
   "outputs": [
    {
     "data": {
      "image/png": "[encoded data removed]",
      "text/plain": [
       "<Figure size 432x288 with 1 Axes>"
      ]
     },
     "metadata": {
      "needs_background": "light"
     },
     "output_type": "display_data"
    },
    {
     "data": {
      "image/png": "[encoded data removed]",
      "text/plain": [
       "<Figure size 432x288 with 1 Axes>"
      ]
     },
     "metadata": {
      "needs_background": "light"
     },
     "output_type": "display_data"
    }
   ],
   "source": [
    "plot_graphs(train_history, 'loss')\n",
    "plot_graphs(train_history, 'accuracy')"
   ]
  },
  {
   "cell_type": "code",
   "execution_count": 14,
   "id": "fallen-surgery",
   "metadata": {},
   "outputs": [
    {
     "name": "stdout",
     "output_type": "stream",
     "text": [
      "24/24 - 7s - loss: 0.4494 - accuracy: 0.8666\n"
     ]
    }
   ],
   "source": [
    "test_loss , test_acc = model.evaluate(train_data , verbose = 2)"
   ]
  },
  {
   "cell_type": "code",
   "execution_count": 16,
   "id": "banned-dallas",
   "metadata": {},
   "outputs": [
    {
     "data": {
      "text/plain": [
       "array([1, 1, 1, 1, 1, 1, 1, 1, 1, 1, 1, 1, 1, 1, 1, 1, 1, 1, 1, 1, 1, 1,\n",
       "       1, 1, 1, 1, 1, 1, 1, 1, 1, 1, 1, 1, 1, 1, 1, 1, 1, 1, 1, 1, 1, 1,\n",
       "       1, 1, 1, 1, 1, 1, 1, 1, 1, 1, 1, 1, 1, 1, 1, 1, 1, 1, 1, 1],\n",
       "      dtype=int64)"
      ]
     },
     "execution_count": 16,
     "metadata": {},
     "output_type": "execute_result"
    }
   ],
   "source": [
    "preds = model.predict_classes(images)\n",
    "preds"
   ]
  },
  {
   "cell_type": "code",
   "execution_count": 23,
   "id": "utility-uniform",
   "metadata": {},
   "outputs": [],
   "source": []
  },
  {
   "cell_type": "code",
   "execution_count": 25,
   "id": "alpine-alexandria",
   "metadata": {},
   "outputs": [
    {
     "data": {
      "text/plain": [
       "<tensorflow.lite.python.lite.TFLiteConverterV2 at 0x1ea61900048>"
      ]
     },
     "execution_count": 25,
     "metadata": {},
     "output_type": "execute_result"
    }
   ],
   "source": []
  },
  {
   "cell_type": "code",
   "execution_count": 21,
   "id": "secondary-meaning",
   "metadata": {},
   "outputs": [
    {
     "name": "stdout",
     "output_type": "stream",
     "text": [
      "INFO:tensorflow:Assets written to: D:\\project\\assets\n"
     ]
    }
   ],
   "source": [
    "tf.keras.models.save_model(\n",
    "    model, \"D:\\project\", overwrite=True, include_optimizer=True, save_format=None,\n",
    "    signatures=None, options=None\n",
    ")\n"
   ]
  }
 ],
 "metadata": {
  "kernelspec": {
   "display_name": "Python [conda env:Rain] *",
   "language": "python",
   "name": "conda-env-Rain-py"
  },
  "language_info": {
   "codemirror_mode": {
    "name": "ipython",
    "version": 3
   },
   "file_extension": ".py",
   "mimetype": "text/x-python",
   "name": "python",
   "nbconvert_exporter": "python",
   "pygments_lexer": "ipython3",
   "version": "3.6.12"
  }
 },
 "nbformat": 4,
 "nbformat_minor": 5
}
