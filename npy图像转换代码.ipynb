{
 "cells": [
  {
   "cell_type": "code",
   "execution_count": 9,
   "id": "breathing-wesley",
   "metadata": {},
   "outputs": [
    {
     "name": "stdout",
     "output_type": "stream",
     "text": [
      "(500, 32, 32, 3)\n"
     ]
    }
   ],
   "source": [
    "#by hanlestudy@163.com\n",
    "import numpy as np\n",
    "import PIL\n",
    "from scipy import misc\n",
    "import imageio\n",
    "import matplotlib.pyplot as plt\n",
    "\n",
    "imgs_test = np.load(\"C:/Users/Zachary/OneDrive/桌面/小车/smartcar-master/picture/5/apple.npy\") #读入.npy文件\n",
    "print(imgs_test.shape)\n",
    "for i in range (imgs_test.shape[0]):\n",
    "    B = imgs_test[i, :, :, 0]\n",
    "    imageio.imsave(\"C:/Users/Zachary/OneDrive/桌面/小车/smartcar-master/picture/5\" + str(i) + \"_testResults\" + \".png\",B)  #保存为png格式，也可将png换位jpg等其他格式\n"
   ]
  },
  {
   "cell_type": "code",
   "execution_count": null,
   "id": "tropical-joseph",
   "metadata": {},
   "outputs": [],
   "source": []
  }
 ],
 "metadata": {
  "kernelspec": {
   "display_name": "Python [conda env:Rain] *",
   "language": "python",
   "name": "conda-env-Rain-py"
  },
  "language_info": {
   "codemirror_mode": {
    "name": "ipython",
    "version": 3
   },
   "file_extension": ".py",
   "mimetype": "text/x-python",
   "name": "python",
   "nbconvert_exporter": "python",
   "pygments_lexer": "ipython3",
   "version": "3.6.12"
  }
 },
 "nbformat": 4,
 "nbformat_minor": 5
}
