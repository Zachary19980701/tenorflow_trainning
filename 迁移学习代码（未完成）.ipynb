{
 "cells": [
  {
   "cell_type": "code",
   "execution_count": 1,
   "id": "subtle-liberia",
   "metadata": {},
   "outputs": [],
   "source": [
    "import tensorflow as tf\n",
    "import numpy as np\n",
    "import matplotlib.pyplot as plt\n",
    "get_ipython().run_line_magic('matplotlib', 'inline')\n",
    "import IPython.display as display\n",
    "import PIL.Image"
   ]
  },
  {
   "cell_type": "code",
   "execution_count": null,
   "id": "reliable-assets",
   "metadata": {},
   "outputs": [],
   "source": [
    "def vgg_16(input_shape = (224 , 224 , 3)):\n",
    "    vgg16 = tf.keras.applications.vgg16.VGG16(include_top = False ,\n",
    "                                              weights = 'imagenet' ,\n",
    "                                              input_shape = input_shape)\n",
    "    for layer in vgg16.layers:\n",
    "        layer.trainable = False #vgg16参数冻结\n",
    "        \n",
    "    last = vgg16.output\n",
    "    #加入剩下的全连接层\n",
    "    x = tf.keras.layers.Flatten()(last)\n",
    "    \n",
    "    "
   ]
  }
 ],
 "metadata": {
  "kernelspec": {
   "display_name": "Python [conda env:Rain] *",
   "language": "python",
   "name": "conda-env-Rain-py"
  },
  "language_info": {
   "codemirror_mode": {
    "name": "ipython",
    "version": 3
   },
   "file_extension": ".py",
   "mimetype": "text/x-python",
   "name": "python",
   "nbconvert_exporter": "python",
   "pygments_lexer": "ipython3",
   "version": "3.6.12"
  }
 },
 "nbformat": 4,
 "nbformat_minor": 5
}
